{
 "cells": [
  {
   "cell_type": "markdown",
   "metadata": {
    "collapsed": true
   },
   "source": [
    "# Lab 1, Exercise 1\n",
    "# Introduce Python variables, data types, operators and built-in commands\n"
   ]
  },
  {
   "cell_type": "code",
   "execution_count": null,
   "metadata": {},
   "outputs": [],
   "source": [
    "### Create a variable that stores the statement \"This is a test.\"\n",
    "### Print the output of the variable\n",
    "### Use a built-in command to verify the data type of the variable\n"
   ]
  },
  {
   "cell_type": "code",
   "execution_count": null,
   "metadata": {},
   "outputs": [],
   "source": [
    "### Create a variable that stores the integer value 10\n",
    "### Create a variable that stores a float value of 10.5\n",
    "### Create two string variables that store different sentences\n",
    "### Create a variable that stores the values from the previous integer and float variables then print the output\n"
   ]
  },
  {
   "cell_type": "code",
   "execution_count": null,
   "metadata": {},
   "outputs": [],
   "source": [
    "### Create a variable that concatenates the values from the string variables in the previous cell then print the output\n",
    "### Use the help command to get information about \"str\" and \"int\"\n",
    "### Use the dir command to get information about one of the string and integer variables you created\n"
   ]
  },
  {
   "cell_type": "code",
   "execution_count": null,
   "metadata": {},
   "outputs": [],
   "source": [
    "### Use the input command to get two values \n",
    "### Add the values and print the result\n"
   ]
  },
  {
   "cell_type": "code",
   "execution_count": null,
   "metadata": {},
   "outputs": [],
   "source": [
    "### Create a list that stores 5 numbers in any order\n",
    "### Print the values in the list\n",
    "### Use the len command to verify the number of values in the list\n",
    "### Add a new number to the list and then verify number of values again\n",
    "### Multiply the list by two and print the result\n",
    "### Sort and print the list in ascending and descending orders\n"
   ]
  },
  {
   "cell_type": "code",
   "execution_count": null,
   "metadata": {},
   "outputs": [],
   "source": [
    "### Create a tuple and a list that store the same 5 numbers\n",
    "### Try appending a new number to the tuple and the list\n",
    "### Print the tuple and the list\n"
   ]
  },
  {
   "cell_type": "code",
   "execution_count": null,
   "metadata": {},
   "outputs": [],
   "source": [
    "### Create a dictionary that stores an employee record containing his name, age and phone number\n",
    "### Print the dictionary keys\n",
    "### Print the dictionary values\n",
    "### Print only the employees age \n"
   ]
  },
  {
   "cell_type": "code",
   "execution_count": null,
   "metadata": {},
   "outputs": [],
   "source": [
    "### Without exiting jupyter, perform the following operations on the operating system\n",
    "# Verify the name of the present working directory\n",
    "# List all the files in the current directory\n",
    "# Create an empty text file in the current directory\n",
    "# List all packages installed with pip\n",
    "# Install the azure-common package.  If it is already installed, upgrade it\n"
   ]
  },
  {
   "cell_type": "code",
   "execution_count": null,
   "metadata": {},
   "outputs": [],
   "source": [
    "### Use %lsmagic to list all the line and cell magics available in your jupyter session\n",
    "### Use %%bash to perform the operating system tasks from the previous step\n",
    "### Use %%html to display and play an online web-page or video\n"
   ]
  },
  {
   "cell_type": "code",
   "execution_count": null,
   "metadata": {},
   "outputs": [],
   "source": [
    "### Using two integer variables, perform the following arithmetic operations and print the results:\n",
    "# Exponent (**)\n",
    "# Multiplication (*)\n",
    "# Addition (+)\n",
    "# Subtraction (-)\n",
    "# Division (/)\n",
    "# Floor Division (//)\n",
    "# Modulus (%)\n"
   ]
  },
  {
   "cell_type": "code",
   "execution_count": null,
   "metadata": {},
   "outputs": [],
   "source": [
    "### Using two integer variables, perform the following comparison operations and print the results:\n",
    "# Greater Than (>)\n",
    "# Less Than (<)\n",
    "# Equal To (==)\n",
    "# Not Equal To (!=)\n",
    "# Greater Than or Equal To (>=)\n",
    "# Less Than or Equal To (<=)\n"
   ]
  },
  {
   "cell_type": "code",
   "execution_count": null,
   "metadata": {},
   "outputs": [],
   "source": [
    "### Create a list of numbers and use the dir function to get information about the different attributes available\n",
    "### Use the help function to get information about how to use the insert, append, count, sort and reverse attributess"
   ]
  },
  {
   "cell_type": "code",
   "execution_count": null,
   "metadata": {},
   "outputs": [],
   "source": [
    "### Download the notebook as a Python (py) file\n",
    "### If time permits, run these commands again in a Python session on Azure Cloud Shell (http://shell.azure.com)\n",
    "### Make a note of which commands work only in a jupyter notebook and not in a normal Python console\n",
    "### List all builtin and installed modules available in your python session"
   ]
  }
 ],
 "metadata": {
  "kernelspec": {
   "display_name": "Python 3",
   "language": "python",
   "name": "python3"
  },
  "language_info": {
   "codemirror_mode": {
    "name": "ipython",
    "version": 3
   },
   "file_extension": ".py",
   "mimetype": "text/x-python",
   "name": "python",
   "nbconvert_exporter": "python",
   "pygments_lexer": "ipython3",
   "version": "3.6.4"
  }
 },
 "nbformat": 4,
 "nbformat_minor": 2
}
